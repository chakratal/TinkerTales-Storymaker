{
 "cells": [
  {
   "cell_type": "markdown",
   "id": "3f166ca3",
   "metadata": {},
   "source": [
    "<img src=\"assets/logo.png\" alt=\"TinkerTales Storymaker Logo\" width=\"300\"/>\n",
    "\n",
    "# 📖✨ TinkerTales Storymaker ✨📖  \n",
    "*“Where imagination meets AI and comes to life.”*\n"
   ]
  },
  {
   "cell_type": "markdown",
   "id": "9f267edb",
   "metadata": {},
   "source": [
    "# TinkerTales Storymaker\n",
    "\n",
    "This notebook generates an original children's story using OpenAI, narrates it with a theme-appropriate voice using ElevenLabs,  \n",
    "and saves the story as an audio file (.mp3), plain text (.txt), and structured metadata (.json).\n",
    "\n",
    "---\n",
    "\n",
    "### 🔹 Features\n",
    "- Story tone and voice are matched to theme and age group\n",
    "- Narration is saved using ElevenLabs voice synthesis\n",
    "- Output files are saved in a `narrated_stories/` directory\n",
    "\n",
    "### 🔧 Technologies Used\n",
    "- Python\n",
    "- OpenAI GPT-4o for story generation\n",
    "- ElevenLabs API for voice synthesis\n",
    "- dotenv for secure API key handling\n",
    "- JSON and text file output\n",
    "\n",
    "### 🌱 Planned Features\n",
    "- AI-generated illustrations\n",
    "- Sound effect integration\n",
    "- Interactive web interface (e.g., Streamlit or Gradio)\n",
    "\n",
    "*Author: Talia Chakraborty*"
   ]
  },
  {
   "cell_type": "code",
   "execution_count": 49,
   "id": "00dd9947",
   "metadata": {},
   "outputs": [
    {
     "name": "stdout",
     "output_type": "stream",
     "text": [
      "Welcome to TinkerTales Storymaker!\n"
     ]
    }
   ],
   "source": [
    "print(\"Welcome to TinkerTales Storymaker!\")"
   ]
  },
  {
   "cell_type": "code",
   "execution_count": 50,
   "id": "b35908a7",
   "metadata": {},
   "outputs": [],
   "source": [
    "import os\n",
    "import json\n",
    "from dotenv import load_dotenv\n",
    "from elevenlabs.client import ElevenLabs\n",
    "from elevenlabs.types import VoiceSettings\n",
    "from openai import OpenAI\n",
    "\n",
    "# 🔐 Load environment variables\n",
    "load_dotenv()\n",
    "\n",
    "# OpenAI client (for story generation)\n",
    "openai_client = OpenAI()  # uses your OPENAI_API_KEY from .env\n",
    "\n",
    "# ElevenLabs client (for narration)\n",
    "elevenlabs_client = ElevenLabs(api_key=os.getenv(\"ELEVEN_API_KEY\"))\n"
   ]
  },
  {
   "cell_type": "code",
   "execution_count": 51,
   "id": "3e3a267d",
   "metadata": {},
   "outputs": [],
   "source": [
    "def narrate_story(story_text, filename=\"story.mp3\", voice=\"Amelia\", client=None):\n",
    "    audio = client.generate(\n",
    "        text=story_text,\n",
    "        model=\"eleven_monolingual_v1\",\n",
    "        voice=voice,\n",
    "        voice_settings=VoiceSettings(stability=0.7, similarity_boost=0.8)\n",
    "    )\n",
    "    with open(filename, \"wb\") as f:\n",
    "        f.write(audio)\n",
    "    print(f\"🎧 Narration saved as {filename}\")"
   ]
  },
  {
   "cell_type": "code",
   "execution_count": 52,
   "id": "266db484",
   "metadata": {},
   "outputs": [],
   "source": [
    "def select_voice(theme, age_range):\n",
    "    \"\"\"\n",
    "    Returns the best ElevenLabs voice based on story theme and age range.\n",
    "    Legacy voices are only used as optional extras.\n",
    "    \"\"\"\n",
    "    if theme == \"Bedtime\":\n",
    "        return \"Charlotte\"\n",
    "    \n",
    "    elif theme == \"Fairy Tale\":\n",
    "        return \"Amelia\"  # or \"Lily\"\n",
    "\n",
    "    elif theme == \"Spooky\":\n",
    "        return \"Daniel\"  # Adam Stone as backup\n",
    "\n",
    "    elif theme == \"Comedy\":\n",
    "        if age_range == \"6-8\":\n",
    "            return \"Jessica\"  # energetic, playful\n",
    "        elif age_range == \"9-11\":\n",
    "            return \"Frederick Surrey\"  # clever, expressive\n",
    "        else:\n",
    "            return \"Amelia\"  # safe default\n",
    "\n",
    "    elif theme == \"Fantasy\":\n",
    "        return \"Frederick Surrey\"  # rich and imaginative\n",
    "\n",
    "    elif theme == \"Adventure\":\n",
    "        return \"Alice\"  # curious and upbeat\n",
    "\n",
    "    elif theme == \"Mystery\":\n",
    "        return \"Adam Stone\"\n",
    "\n",
    "    elif theme == \"Outer Space\":\n",
    "        return \"Adam Stone\"  # or \"Alice\" for more whimsical\n",
    "\n",
    "    elif theme == \"Science Fiction\":\n",
    "        return \"Jessica\"\n",
    "\n",
    "    else:\n",
    "        return \"Amelia\"  # default fallback"
   ]
  },
  {
   "cell_type": "code",
   "execution_count": 53,
   "id": "9165206b",
   "metadata": {},
   "outputs": [],
   "source": [
    "# Style mapping for themes (except Comedy and Adventure)\n",
    "style_by_theme = {\n",
    "    \"Fairy Tale\": \"in a whimsical, magical style like J.K. Rowling\",\n",
    "    \"Bedtime\": \"in a gentle, soothing voice like Margaret Wise Brown\",\n",
    "    \"Outer Space\": \"in a blend of cosmic wonder and humor, like Carl Sagan meets Roald Dahl\",\n",
    "    \"Science Fiction\": \"in a curious, thoughtful voice like Madeleine L'Engle\",\n",
    "    \"Fantasy\": \"in a mythic, magical tone like C.S. Lewis\",\n",
    "    \"Mystery\": \"in a clever, dramatic style like Lemony Snicket\",\n",
    "    \"Spooky\": \"in a slightly eerie but fun tone like R.L. Stine\"\n",
    "}\n",
    "\n",
    "# Styles for Comedy and Adventure based on age range\n",
    "comedy_style_by_age = {\n",
    "    \"3-5\": \"in a silly, rhythmic style like Sandra Boynton\",\n",
    "    \"6-8\": \"in a wacky, outrageous style like Dav Pilkey (Dog Man)\",\n",
    "    \"9-11\": \"in a clever, humorous tone like Roald Dahl\"\n",
    "}\n",
    "\n",
    "adventure_style_by_age = {\n",
    "    \"3-5\": \"in a rhythmic, playful style like Julia Donaldson or Mo Willems\",\n",
    "    \"6-8\": \"in a rhyming, action-packed style like Julia Donaldson\",\n",
    "    \"9-11\": \"in a fast-paced, witty tone like Rick Riordan\"\n",
    "}"
   ]
  },
  {
   "cell_type": "code",
   "execution_count": 54,
   "id": "2143cca5",
   "metadata": {},
   "outputs": [],
   "source": [
    "def generate_story(character_name, age_range, theme, custom_detail=None):\n",
    "    age_sensitive_themes = [\"Comedy\", \"Adventure\"]\n",
    "\n",
    "    if theme in age_sensitive_themes:\n",
    "        if theme == \"Comedy\":\n",
    "            style = comedy_style_by_age.get(age_range, \"\")\n",
    "        elif theme == \"Adventure\":\n",
    "            style = adventure_style_by_age.get(age_range, \"\")\n",
    "    else:\n",
    "        style = style_by_theme.get(theme, \"\")\n",
    "\n",
    "    prompt = f\"\"\"\n",
    "    Write a short story for a child aged {age_range}. The story should include a character named {character_name} and follow the theme \"{theme}\".\n",
    "    {f\"Include this detail: {custom_detail}.\" if custom_detail else \"\"}\n",
    "    Write the story {style}.\n",
    "    Include a creative, fun story title at the top.\n",
    "    The story should have a clear beginning (introducing the character and setting), middle (a challenge or adventure), and end (a satisfying resolution).\n",
    "    Make the story around 500-650 words long. Keep it age-appropriate and imaginative.\n",
    "    \"\"\"\n",
    "\n",
    "    response = openai_client.chat.completions.create(\n",
    "        model=\"gpt-4o\",\n",
    "        messages=[{\"role\": \"user\", \"content\": prompt}],\n",
    "        temperature=0.8,\n",
    "        max_tokens=1000\n",
    "    )\n",
    "\n",
    "    return response.choices[0].message.content"
   ]
  },
  {
   "cell_type": "code",
   "execution_count": 55,
   "id": "6dfe5cef",
   "metadata": {},
   "outputs": [
    {
     "name": "stdout",
     "output_type": "stream",
     "text": [
      "1.59.0\n"
     ]
    }
   ],
   "source": [
    "import elevenlabs\n",
    "print(elevenlabs.__version__)"
   ]
  },
  {
   "cell_type": "code",
   "execution_count": 56,
   "id": "096e96ad",
   "metadata": {},
   "outputs": [
    {
     "name": "stdout",
     "output_type": "stream",
     "text": [
      "**The Night Sky Adventure of Ani and Uma**\n",
      "\n",
      "In a cozy cottage nestled at the edge of a whispering forest, two sisters named Ani and Uma were known for their sparkling imaginations. Ani, the elder, wore a shirt adorned with shimmering stars, a reflection of her love for the night sky's wonders. Uma, the younger sister, always marveled at Ani's stories about the twinkling constellations outside their window.\n",
      "\n",
      "One crisp autumn evening, as the sky donned its inky cloak, Ani beckoned Uma to the window. \"Look, Uma! The stars are out in full splendor tonight,\" she said, her eyes wide with excitement. Uma leaned closer, her little nose pressed against the glass. \"Oh, Ani, they’re like diamonds scattered across a dark velvet sea!\"\n",
      "\n",
      "Ani grinned. \"Wouldn't it be magical if we could visit the stars?\"\n",
      "\n",
      "Uma clapped her hands. \"How can we do that?\"\n",
      "\n",
      "With a knowing smile, Ani whispered, \"There’s an ancient legend, passed down by the woodland folk, about a hidden path that leads to the stars.\"\n",
      "\n",
      "Uma's eyes grew wide with wonder. \"Can we find it?\"\n",
      "\n",
      "Determined, Ani retrieved an old map from under her bed, a keepsake from their grandmother. It was said to show the way to the \"Starry Stairway,\" a mystical trail that only appeared on special nights when the stars aligned just so.\n",
      "\n",
      "Under the moon’s watchful eye, the sisters ventured into the forest, following the map's cryptic directions. The path glimmered faintly, as if sprinkled with stardust, guiding them deeper into the woods. They soon arrived at a clearing where an enormous oak tree stood, its bark etched with ancient runes.\n",
      "\n",
      "Ani approached the tree, tracing her fingers over the symbols. \"This must be it,\" she breathed. As if in response, the tree hummed softly, and a spiral staircase unfolded from its trunk, twisting upwards into the sky.\n",
      "\n",
      "Hand in hand, Ani and Uma ascended the Starry Stairway. Each step felt like a dream, the air around them sparkling with magic. The stars seemed to sing, a melody that tugged at their hearts.\n",
      "\n",
      "At the staircase's peak, the sisters found themselves in a realm of celestial wonder. Stars hovered like lanterns, casting a gentle glow over a garden of luminous flowers and silver streams. The air was filled with the scent of moonflowers, sweet and mysterious.\n",
      "\n",
      "In the center of the garden stood a majestic figure—a woman cloaked in moonlight, her hair woven with constellations. She smiled at the sisters. \"Welcome, Ani and Uma. I am Selene, the Guardian of the Night Sky.\"\n",
      "\n",
      "Ani bowed respectfully. \"It's an honor to meet you, Lady Selene.\"\n",
      "\n",
      "Uma twirled in delight. \"This place is beautiful!\"\n",
      "\n",
      "Selene chuckled softly. \"Indeed, it is. And you, dear ones, are the first to visit in many moons. You have brave hearts.\"\n",
      "\n",
      "Uma beamed. \"Thank you! Can we stay forever?\"\n",
      "\n",
      "Selene's smile was gentle. \"Though you cannot stay, you may take a piece of the sky back with you.\"\n",
      "\n",
      "She gave each sister a small star, warm and glowing in their palms. \"These stars will guide you home and remind you of this adventure.\"\n",
      "\n",
      "With grateful hearts, Ani and Uma descended the Starry Stairway, the stars in their hands lighting their way. As they reached the forest floor, the stairway vanished, leaving behind only the whisper of leaves.\n",
      "\n",
      "Back in their cozy cottage, the sisters placed their stars on their windowsill, where they shone softly, a constant reminder of their magical journey. Ani and Uma fell asleep, dreaming of the night sky and the wonders it held.\n",
      "\n",
      "From that day on, whenever they gazed at their stars, they remembered their adventure with Selene and knew that the sky was not so far away after all. And every night, the stars outside their window twinkled a little brighter, as if winking at two sisters who dared to dream.\n"
     ]
    },
    {
     "name": "stderr",
     "output_type": "stream",
     "text": [
      "/var/folders/wz/kw1v4r891w173y7dkt9dc02w0000gn/T/ipykernel_15264/2679343893.py:2: DeprecationWarning: The method generate is deprecated and will be removed in a future version.\n",
      "  audio = client.generate(\n"
     ]
    },
    {
     "ename": "TypeError",
     "evalue": "a bytes-like object is required, not 'generator'",
     "output_type": "error",
     "traceback": [
      "\u001b[31m---------------------------------------------------------------------------\u001b[39m",
      "\u001b[31mTypeError\u001b[39m                                 Traceback (most recent call last)",
      "\u001b[36mCell\u001b[39m\u001b[36m \u001b[39m\u001b[32mIn[56]\u001b[39m\u001b[32m, line 28\u001b[39m\n\u001b[32m     26\u001b[39m \u001b[38;5;66;03m# 🎧 Save narration\u001b[39;00m\n\u001b[32m     27\u001b[39m mp3_filename = os.path.join(output_dir, \u001b[33mf\u001b[39m\u001b[33m\"\u001b[39m\u001b[38;5;132;01m{\u001b[39;00mbase_filename\u001b[38;5;132;01m}\u001b[39;00m\u001b[33m.mp3\u001b[39m\u001b[33m\"\u001b[39m)\n\u001b[32m---> \u001b[39m\u001b[32m28\u001b[39m \u001b[43mnarrate_story\u001b[49m\u001b[43m(\u001b[49m\u001b[43mstory\u001b[49m\u001b[43m,\u001b[49m\u001b[43m \u001b[49m\u001b[43mfilename\u001b[49m\u001b[43m=\u001b[49m\u001b[43mmp3_filename\u001b[49m\u001b[43m,\u001b[49m\u001b[43m \u001b[49m\u001b[43mvoice\u001b[49m\u001b[43m=\u001b[49m\u001b[43mvoice\u001b[49m\u001b[43m,\u001b[49m\u001b[43m \u001b[49m\u001b[43mclient\u001b[49m\u001b[43m=\u001b[49m\u001b[43melevenlabs_client\u001b[49m\u001b[43m)\u001b[49m\n\u001b[32m     30\u001b[39m \u001b[38;5;66;03m# 📄 Save story as plain text\u001b[39;00m\n\u001b[32m     31\u001b[39m txt_filename = os.path.join(output_dir, \u001b[33mf\u001b[39m\u001b[33m\"\u001b[39m\u001b[38;5;132;01m{\u001b[39;00mbase_filename\u001b[38;5;132;01m}\u001b[39;00m\u001b[33m.txt\u001b[39m\u001b[33m\"\u001b[39m)\n",
      "\u001b[36mCell\u001b[39m\u001b[36m \u001b[39m\u001b[32mIn[51]\u001b[39m\u001b[32m, line 9\u001b[39m, in \u001b[36mnarrate_story\u001b[39m\u001b[34m(story_text, filename, voice, client)\u001b[39m\n\u001b[32m      2\u001b[39m audio = client.generate(\n\u001b[32m      3\u001b[39m     text=story_text,\n\u001b[32m      4\u001b[39m     model=\u001b[33m\"\u001b[39m\u001b[33meleven_monolingual_v1\u001b[39m\u001b[33m\"\u001b[39m,\n\u001b[32m      5\u001b[39m     voice=voice,\n\u001b[32m      6\u001b[39m     voice_settings=VoiceSettings(stability=\u001b[32m0.7\u001b[39m, similarity_boost=\u001b[32m0.8\u001b[39m)\n\u001b[32m      7\u001b[39m )\n\u001b[32m      8\u001b[39m \u001b[38;5;28;01mwith\u001b[39;00m \u001b[38;5;28mopen\u001b[39m(filename, \u001b[33m\"\u001b[39m\u001b[33mwb\u001b[39m\u001b[33m\"\u001b[39m) \u001b[38;5;28;01mas\u001b[39;00m f:\n\u001b[32m----> \u001b[39m\u001b[32m9\u001b[39m     \u001b[43mf\u001b[49m\u001b[43m.\u001b[49m\u001b[43mwrite\u001b[49m\u001b[43m(\u001b[49m\u001b[43maudio\u001b[49m\u001b[43m)\u001b[49m\n\u001b[32m     10\u001b[39m \u001b[38;5;28mprint\u001b[39m(\u001b[33mf\u001b[39m\u001b[33m\"\u001b[39m\u001b[33m🎧 Narration saved as \u001b[39m\u001b[38;5;132;01m{\u001b[39;00mfilename\u001b[38;5;132;01m}\u001b[39;00m\u001b[33m\"\u001b[39m)\n",
      "\u001b[31mTypeError\u001b[39m: a bytes-like object is required, not 'generator'"
     ]
    }
   ],
   "source": [
    "# Set story parameters\n",
    "character_name = \"Ani\"\n",
    "age_range = \"9-11\"\n",
    "theme = \"Fantasy\"\n",
    "custom_detail = \"Ani wears a shirt with stars on it and loves the dark night sky outside her house. She and her little sister Uma are going on a wild adventure.\"\n",
    "\n",
    "# Generate the story\n",
    "story = generate_story(\n",
    "    character_name=character_name,\n",
    "    age_range=age_range,\n",
    "    theme=theme,\n",
    "    custom_detail=custom_detail\n",
    ")\n",
    "\n",
    "# Print the story in the notebook\n",
    "print(story)\n",
    "\n",
    "# Select voice based on theme and age\n",
    "voice = select_voice(theme, age_range)\n",
    "\n",
    "# 💾 Prepare filenames and folder\n",
    "output_dir = \"narrated_stories\"\n",
    "os.makedirs(output_dir, exist_ok=True)\n",
    "base_filename = f\"{character_name.lower()}_{theme.lower().replace(' ', '_')}\"\n",
    "\n",
    "# 🎧 Save narration\n",
    "mp3_filename = os.path.join(output_dir, f\"{base_filename}.mp3\")\n",
    "narrate_story(story, filename=mp3_filename, voice=voice, client=elevenlabs_client)\n",
    "\n",
    "# 📄 Save story as plain text\n",
    "txt_filename = os.path.join(output_dir, f\"{base_filename}.txt\")\n",
    "with open(txt_filename, \"w\") as f:\n",
    "    f.write(story)\n",
    "print(f\"📝 Story text saved as {txt_filename}\")\n",
    "\n",
    "# 📦 Save story metadata as JSON\n",
    "json_data = {\n",
    "    \"character_name\": character_name,\n",
    "    \"age_range\": age_range,\n",
    "    \"theme\": theme,\n",
    "    \"custom_detail\": custom_detail,\n",
    "    \"voice\": voice,\n",
    "    \"story_text\": story\n",
    "}\n",
    "json_filename = os.path.join(output_dir, f\"{base_filename}.json\")\n",
    "with open(json_filename, \"w\") as f:\n",
    "    json.dump(json_data, f, indent=2)\n",
    "print(f\"📦 Story metadata saved as {json_filename}\")\n"
   ]
  }
 ],
 "metadata": {
  "kernelspec": {
   "display_name": "venv",
   "language": "python",
   "name": "python3"
  },
  "language_info": {
   "codemirror_mode": {
    "name": "ipython",
    "version": 3
   },
   "file_extension": ".py",
   "mimetype": "text/x-python",
   "name": "python",
   "nbconvert_exporter": "python",
   "pygments_lexer": "ipython3",
   "version": "3.13.3"
  }
 },
 "nbformat": 4,
 "nbformat_minor": 5
}
